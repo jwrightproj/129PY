{
 "cells": [
  {
   "cell_type": "code",
   "execution_count": 3,
   "metadata": {},
   "outputs": [],
   "source": [
    "import requests,json"
   ]
  },
  {
   "cell_type": "code",
   "execution_count": 5,
   "metadata": {},
   "outputs": [],
   "source": [
    "resp = requests.get(\"https://financialmodelingprep.com/api/v3/income-statement/AAPL?limit=120&apikey=5507ab7b5ed87b9fd6be726094362361\")\n",
    "#resp.raise_for_status()"
   ]
  },
  {
   "cell_type": "code",
   "execution_count": 6,
   "metadata": {},
   "outputs": [
    {
     "data": {
      "text/plain": [
       "{'date': '2019-09-28',\n",
       " 'symbol': 'AAPL',\n",
       " 'fillingDate': '2019-10-31 00:00:00',\n",
       " 'acceptedDate': '2019-10-30 18:12:36',\n",
       " 'period': 'FY',\n",
       " 'revenue': 260174000000,\n",
       " 'costOfRevenue': 161782000000,\n",
       " 'grossProfit': 98392000000,\n",
       " 'grossProfitRatio': 0.378178,\n",
       " 'researchAndDevelopmentExpenses': 16217000000,\n",
       " 'generalAndAdministrativeExpenses': 18245000000,\n",
       " 'sellingAndMarketingExpenses': 0.0,\n",
       " 'otherExpenses': 1807000000,\n",
       " 'operatingExpenses': 34462000000,\n",
       " 'costAndExpenses': 196244000000,\n",
       " 'interestExpense': 3576000000,\n",
       " 'depreciationAndAmortization': 12547000000,\n",
       " 'ebitda': 81860000000,\n",
       " 'ebitdaratio': 0.314636,\n",
       " 'operatingIncome': 63930000000,\n",
       " 'operatingIncomeRatio': 0.24572,\n",
       " 'totalOtherIncomeExpensesNet': 422000000,\n",
       " 'incomeBeforeTax': 65737000000,\n",
       " 'incomeBeforeTaxRatio': 0.252666,\n",
       " 'incomeTaxExpense': 10481000000,\n",
       " 'netIncome': 55256000000,\n",
       " 'netIncomeRatio': 0.212381,\n",
       " 'eps': 2.97145,\n",
       " 'epsdiluted': 2.97145,\n",
       " 'weightedAverageShsOut': 18595652000,\n",
       " 'weightedAverageShsOutDil': 18595652000,\n",
       " 'link': 'https://www.sec.gov/Archives/edgar/data/320193/000032019319000119/0000320193-19-000119-index.html',\n",
       " 'finalLink': 'https://www.sec.gov/Archives/edgar/data/320193/000032019319000119/a10-k20199282019.htm'}"
      ]
     },
     "execution_count": 6,
     "metadata": {},
     "output_type": "execute_result"
    }
   ],
   "source": [
    "resp.json()[0]"
   ]
  },
  {
   "cell_type": "code",
   "execution_count": 7,
   "metadata": {},
   "outputs": [],
   "source": [
    "import pandas as pd\n",
    "msgs = pd.io.json.json_normalize(resp.json())"
   ]
  },
  {
   "cell_type": "code",
   "execution_count": 11,
   "metadata": {},
   "outputs": [
    {
     "data": {
      "text/plain": [
       "acceptedDate                         object\n",
       "costAndExpenses                       int64\n",
       "costOfRevenue                         int64\n",
       "date                                 object\n",
       "depreciationAndAmortization         float64\n",
       "ebitda                                int64\n",
       "ebitdaratio                         float64\n",
       "eps                                 float64\n",
       "epsdiluted                          float64\n",
       "fillingDate                          object\n",
       "finalLink                            object\n",
       "generalAndAdministrativeExpenses      int64\n",
       "grossProfit                           int64\n",
       "grossProfitRatio                    float64\n",
       "incomeBeforeTax                       int64\n",
       "incomeBeforeTaxRatio                float64\n",
       "incomeTaxExpense                    float64\n",
       "interestExpense                     float64\n",
       "link                                 object\n",
       "netIncome                             int64\n",
       "netIncomeRatio                      float64\n",
       "operatingExpenses                     int64\n",
       "operatingIncome                     float64\n",
       "operatingIncomeRatio                float64\n",
       "otherExpenses                       float64\n",
       "period                               object\n",
       "researchAndDevelopmentExpenses        int64\n",
       "revenue                               int64\n",
       "sellingAndMarketingExpenses         float64\n",
       "symbol                               object\n",
       "totalOtherIncomeExpensesNet         float64\n",
       "weightedAverageShsOut                 int64\n",
       "weightedAverageShsOutDil              int64\n",
       "dtype: object"
      ]
     },
     "execution_count": 11,
     "metadata": {},
     "output_type": "execute_result"
    }
   ],
   "source": [
    "msgs.dtypes"
   ]
  },
  {
   "cell_type": "code",
   "execution_count": 8,
   "metadata": {},
   "outputs": [],
   "source": [
    "#df=[{'revenue':msgs.revenue.head(100)},\n",
    "#    {'date':msgs.date.head(100)},\n",
    "#    {'sellingAndMarketingExpenses' : msgs.sellingAndMarketingExpenses.head(100)}]"
   ]
  },
  {
   "cell_type": "code",
   "execution_count": 17,
   "metadata": {},
   "outputs": [],
   "source": [
    "df = pd.DataFrame({'date': msgs.date.head(100),\n",
    "                   'revenue': msgs.revenue.head(100),\n",
    "                   'researchAndDevelopmentExpenses': msgs.researchAndDevelopmentExpenses.head(100),\n",
    "                   'costAndExpenses ': msgs.costAndExpenses.head(100)})\n"
   ]
  },
  {
   "cell_type": "code",
   "execution_count": 16,
   "metadata": {},
   "outputs": [
    {
     "name": "stdout",
     "output_type": "stream",
     "text": [
      "          date       revenue  sellingAndMarketingExpenses  costAndExpenses \n",
      "0   2019-09-28  260174000000                          0.0      196244000000\n",
      "1   2018-09-29  265595000000                          0.0      194697000000\n",
      "2   2017-09-30  229234000000                          0.0      167890000000\n",
      "3   2016-09-24  215639000000                          0.0      155615000000\n",
      "4   2015-09-26  233715000000                          0.0      162485000000\n",
      "5   2014-09-27  182795000000                          0.0      130292000000\n",
      "6   2013-09-28  170910000000                          0.0      121911000000\n",
      "7   2012-09-29  156508000000                          0.0      101267000000\n",
      "8   2011-09-24  108249000000                          0.0       74459000000\n",
      "9   2010-09-25   65225000000                          0.0       46840000000\n",
      "10  2009-09-26   42905000000                          0.0       31165000000\n",
      "11  2008-09-27   32479000000                          0.0       26204000000\n",
      "12  2007-09-29   24006000000                          0.0       19597000000\n",
      "13  2006-09-30   19315000000                          0.0       16862000000\n",
      "14  2005-09-24   13931000000                          0.0       12281000000\n",
      "15  2004-09-25    8279000000                          0.0        7953000000\n",
      "16  2003-09-27    6207000000                          0.0        6208000000\n",
      "17  2002-09-28    5742000000                          0.0        5725000000\n",
      "18  2001-09-29    5363000000                          0.0        5707000000\n",
      "19  2000-09-30    7983000000                          0.0        7461000000\n",
      "20  1999-09-25    6134000000                          0.0        5775000000\n",
      "21  1998-09-25    5941000000                          0.0        5680000000\n",
      "22  1997-09-26    7081000000                          0.0        8151000000\n",
      "23  1996-09-27    9833000000                          0.0       11216000000\n",
      "24  1995-09-29   11062000000                          0.0       10378000000\n",
      "25  1994-09-30    9189000000                          0.0        8666000000\n",
      "26  1993-09-24    7977000000                          0.0        7867000000\n",
      "27  1992-09-25    7087000000                          0.0        6281000000\n",
      "28  1991-09-27    6309000000                          0.0        5862000000\n",
      "29  1990-09-28    5558000000                          0.0        4846000000\n",
      "30  1989-09-29    5284000000                          0.0        4650000000\n",
      "31  1988-09-30    4071000000                          0.0        3451000000\n",
      "32  1987-09-25    2661000000                          0.0        2290000000\n",
      "33  1986-09-26    1902000000                          0.0        1628000000\n",
      "34  1985-09-27    1918000000                          0.0        1816000000\n",
      "35  1984-09-28    1516000000                          0.0        1430000000\n",
      "36  1983-09-30     983000000                          0.0         853000000\n"
     ]
    }
   ],
   "source": [
    "\n",
    "\n",
    "print(df)"
   ]
  },
  {
   "cell_type": "code",
   "execution_count": 19,
   "metadata": {},
   "outputs": [
    {
     "name": "stdout",
     "output_type": "stream",
     "text": [
      "            revenue\n",
      "count  3.700000e+01\n",
      "mean   5.807459e+10\n",
      "std    8.742457e+10\n",
      "min    9.830000e+08\n",
      "25%    5.742000e+09\n",
      "50%    8.279000e+09\n",
      "75%    6.522500e+10\n",
      "max    2.655950e+11\n"
     ]
    }
   ],
   "source": [
    "import pandas as pd\n",
    "import matplotlib.pyplot as plt\n",
    "print(df.describe())"
   ]
  },
  {
   "cell_type": "code",
   "execution_count": 21,
   "metadata": {},
   "outputs": [
    {
     "data": {
      "text/plain": [
       "(array([25.,  2.,  1.,  1.,  0.,  2.,  1.,  3.,  2.]),\n",
       " array([9.83000000e+08, 3.03843333e+10, 5.97856667e+10, 8.91870000e+10,\n",
       "        1.18588333e+11, 1.47989667e+11, 1.77391000e+11, 2.06792333e+11,\n",
       "        2.36193667e+11, 2.65595000e+11]),\n",
       " <a list of 9 Patch objects>)"
      ]
     },
     "execution_count": 21,
     "metadata": {},
     "output_type": "execute_result"
    },
    {
     "data": {
      "image/png": "[encoded data removed]",
      "text/plain": [
       "<Figure size 432x288 with 1 Axes>"
      ]
     },
     "metadata": {
      "needs_background": "light"
     },
     "output_type": "display_data"
    }
   ],
   "source": [
    "plt.hist(df['revenue'], bins=9)"
   ]
  },
  {
   "cell_type": "code",
   "execution_count": 25,
   "metadata": {},
   "outputs": [],
   "source": [
    "df.sort_values(by=['date'], inplace=True)"
   ]
  },
  {
   "cell_type": "code",
   "execution_count": 26,
   "metadata": {},
   "outputs": [
    {
     "data": {
      "image/png": "[encoded data removed]",
      "text/plain": [
       "<Figure size 432x288 with 1 Axes>"
      ]
     },
     "metadata": {
      "needs_background": "light"
     },
     "output_type": "display_data"
    }
   ],
   "source": [
    "from pandas import DataFrame\n",
    "import matplotlib.pyplot as plt\n",
    "df.plot(x ='date', y='revenue', kind = 'bar')\n",
    "plt.show()"
   ]
  },
  {
   "cell_type": "code",
   "execution_count": null,
   "metadata": {},
   "outputs": [],
   "source": []
  }
 ],
 "metadata": {
  "kernelspec": {
   "display_name": "Python 3",
   "language": "python",
   "name": "python3"
  },
  "language_info": {
   "codemirror_mode": {
    "name": "ipython",
    "version": 3
   },
   "file_extension": ".py",
   "mimetype": "text/x-python",
   "name": "python",
   "nbconvert_exporter": "python",
   "pygments_lexer": "ipython3",
   "version": "3.7.3"
  }
 },
 "nbformat": 4,
 "nbformat_minor": 2
}
